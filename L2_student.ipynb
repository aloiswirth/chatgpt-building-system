{
 "cells": [
  {
   "cell_type": "markdown",
   "id": "f14c4442-3fc5-4070-9ef2-bb33d30e6b38",
   "metadata": {},
   "source": [
    "# L2: Evaluate Inputs: Classification"
   ]
  },
  {
   "cell_type": "markdown",
   "id": "26fd0696-18e6-4029-8738-fecba92851db",
   "metadata": {},
   "source": [
    "## Setup\n",
    "#### Load the API key and relevant Python libaries.\n",
    "In this course, we've provided some code that loads the OpenAI API key for you."
   ]
  },
  {
   "cell_type": "code",
   "execution_count": 2,
   "id": "87f647e2",
   "metadata": {
    "height": 129
   },
   "outputs": [],
   "source": ["import os\nimport openai\nfrom dotenv import load_dotenv, find_dotenv\n_ = load_dotenv(find_dotenv()) # read local .env file\n"]
  },
  {
   "cell_type": "code",
   "execution_count": 6,
   "id": "e0651804",
   "metadata": {},
   "outputs": [],
   "source": ["openai.__version__"]
  },
  {
   "cell_type": "code",
   "execution_count": 9,
   "id": "101624a2",
   "metadata": {
    "height": 214
   },
   "outputs": [],
   "source": ["def get_completion_from_messages(messages, \n                                 model=\"gpt-3.5-turbo\", \n                                 temperature=0, \n                                 max_tokens=500):\n    response = openai.chat.completions.create(\n        model=model,\n        messages=messages,\n        temperature=temperature, \n        max_tokens=max_tokens,\n    )\n    return response.choices[0].message.content"]
  },
  {
   "cell_type": "markdown",
   "id": "d3db09d1-6253-4c9e-9ad1-5a6134df3e6c",
   "metadata": {},
   "source": [
    "#### Classify customer queries to handle different cases"
   ]
  },
  {
   "cell_type": "code",
   "execution_count": 10,
   "id": "8db30f42",
   "metadata": {
    "height": 826
   },
   "outputs": [
    {
     "name": "stdout",
     "output_type": "stream",
     "text": [
      "{\n",
      "  \"primary\": \"Account Management\",\n",
      "  \"secondary\": \"Close account\"\n",
      "}  \n",
      "\n"
     ]
    }
   ],
   "source": ["delimiter = \"####\"\nsystem_message = f\"\"\"\nYou will be provided with customer service queries. \\\nThe customer service query will be delimited with \\\n{delimiter} characters.\nClassify each query into a primary category \\\nand a secondary category. \nProvide your output in json format with the \\\nkeys: primary and secondary.\n\nPrimary categories: Billing, Technical Support, \\\nAccount Management, or General Inquiry.\n\nBilling secondary categories:\nUnsubscribe or upgrade\nAdd a payment method\nExplanation for charge\nDispute a charge\n\nTechnical Support secondary categories:\nGeneral troubleshooting\nDevice compatibility\nSoftware updates\n\nAccount Management secondary categories:\nPassword reset\nUpdate personal information\nClose account\nAccount security\n\nGeneral Inquiry secondary categories:\nProduct information\nPricing\nFeedback\nSpeak to a human\n\n\"\"\"\nuser_message = f\"\"\"\\\nI want you to delete my profile and all of my user data\"\"\"\nmessages =  [  \n{'role':'system', \n 'content': system_message},    \n{'role':'user', \n 'content': f\"{delimiter}{user_message}{delimiter}\"},  \n] \nresponse = get_completion_from_messages(messages)\nprint(response)"]
  },
  {
   "cell_type": "code",
   "execution_count": 11,
   "id": "f9a5a790",
   "metadata": {
    "height": 197
   },
   "outputs": [
    {
     "name": "stdout",
     "output_type": "stream",
     "text": [
      "{\n",
      "  \"primary\": \"General Inquiry\",\n",
      "  \"secondary\": \"Product information\"\n",
      "}  \n",
      "\n"
     ]
    }
   ],
   "source": ["user_message = f\"\"\"\\\nTell me more about your flat screen tvs\"\"\"\nmessages =  [  \n{'role':'system', \n 'content': system_message},    \n{'role':'user', \n 'content': f\"{delimiter}{user_message}{delimiter}\"},  \n] \nresponse = get_completion_from_messages(messages)\nprint(response)"]
  },
  {
   "cell_type": "code",
   "execution_count": null,
   "id": "5cfd2fae",
   "metadata": {
    "height": 30
   },
   "outputs": [],
   "source": [""]
  }
 ],
 "metadata": {
  "kernelspec": {
   "display_name": ".venv",
   "language": "python",
   "name": "python3"
  },
  "language_info": {
   "codemirror_mode": {
    "name": "ipython",
    "version": 3
   },
   "file_extension": ".py",
   "mimetype": "text/x-python",
   "name": "python",
   "nbconvert_exporter": "python",
   "pygments_lexer": "ipython3",
   "version": "3.13.0"
  }
 },
 "nbformat": 4,
 "nbformat_minor": 5
}
